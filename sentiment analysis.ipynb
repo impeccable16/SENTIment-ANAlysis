{
  "cells": [
    {
      "cell_type": "markdown",
      "metadata": {
        "id": "EzMBo7Cf-ggY"
      },
      "source": [
        "#**LSTM**                ** \"SENTIMENT ANALYSIS\"**\n",
        "\n",
        "\n",
        "\n",
        "\n",
        "\n"
      ]
    },
    {
      "cell_type": "code",
      "execution_count": null,
      "metadata": {
        "colab": {
          "background_save": true,
          "base_uri": "https://localhost:8080/"
        },
        "id": "kkX-KCz7-UPZ",
        "outputId": "4c48d793-7236-40df-b7af-f4a66f34107c"
      },
      "outputs": [
        {
          "name": "stdout",
          "output_type": "stream",
          "text": [
            "Looking in indexes: https://pypi.org/simple, https://us-python.pkg.dev/colab-wheels/public/simple/\n",
            "Requirement already satisfied: nltk in /usr/local/lib/python3.7/dist-packages (3.7)\n",
            "Requirement already satisfied: joblib in /usr/local/lib/python3.7/dist-packages (from nltk) (1.2.0)\n",
            "Requirement already satisfied: regex>=2021.8.3 in /usr/local/lib/python3.7/dist-packages (from nltk) (2022.6.2)\n",
            "Requirement already satisfied: click in /usr/local/lib/python3.7/dist-packages (from nltk) (7.1.2)\n",
            "Requirement already satisfied: tqdm in /usr/local/lib/python3.7/dist-packages (from nltk) (4.64.1)\n"
          ]
        }
      ],
      "source": [
        "pip install nltk"
      ]
    },
    {
      "cell_type": "code",
      "execution_count": null,
      "metadata": {
        "colab": {
          "background_save": true
        },
        "id": "SvGWF_GlEwdK"
      },
      "outputs": [],
      "source": [
        "import numpy as np\n",
        "import pandas as pd\n",
        "import matplotlib.pyplot as plt\n",
        "from sklearn.model_selection import train_test_split"
      ]
    },
    {
      "cell_type": "code",
      "execution_count": null,
      "metadata": {
        "colab": {
          "background_save": true
        },
        "id": "ga9tN6_FIVoh"
      },
      "outputs": [],
      "source": [
        "df = '/content/EcoPreprocessed.csv'"
      ]
    },
    {
      "cell_type": "code",
      "execution_count": null,
      "metadata": {
        "colab": {
          "background_save": true
        },
        "id": "fVVooaGCIeK-"
      },
      "outputs": [],
      "source": [
        "df = pd.read_csv('/content/EcoPreprocessed.csv')"
      ]
    },
    {
      "cell_type": "code",
      "execution_count": null,
      "metadata": {
        "colab": {
          "background_save": true,
          "base_uri": "https://localhost:8080/"
        },
        "id": "5DRYnmNPIrol",
        "outputId": "b241409f-8fab-4350-c4a2-26db94502e6a"
      },
      "outputs": [
        {
          "data": {
            "text/plain": [
              "<bound method NDFrame.head of       Unnamed: 0                                             review  polarity  \\\n",
              "0           3870                            able play youtube alexa    0.5000   \n",
              "1             62  able recognize indian accent really well drop ...    0.2794   \n",
              "2            487  absolute smart device amazon connect external ...    0.1827   \n",
              "3           3204  absolutely amaze new member family control hom...    0.3682   \n",
              "4           1265  absolutely amaze previously sceptical invest m...    0.2333   \n",
              "...          ...                                                ...       ...   \n",
              "4079         852  yo yo yo love go if want one smart speaker val...    0.4571   \n",
              "4080        2163                                      youtube music    0.0000   \n",
              "4081        2488  youtube support nahi kartasong recognise achha...    0.0000   \n",
              "4082         651  yup proscontrols wipro light amazinglysony bra...    0.0000   \n",
              "4083         868  zero integration capabilities fire tv devices ...   -0.3125   \n",
              "\n",
              "      division  \n",
              "0     positive  \n",
              "1     positive  \n",
              "2     positive  \n",
              "3     positive  \n",
              "4     positive  \n",
              "...        ...  \n",
              "4079  positive  \n",
              "4080   neutral  \n",
              "4081   neutral  \n",
              "4082   neutral  \n",
              "4083  negative  \n",
              "\n",
              "[4084 rows x 4 columns]>"
            ]
          },
          "execution_count": 33,
          "metadata": {},
          "output_type": "execute_result"
        }
      ],
      "source": [
        "df.head"
      ]
    },
    {
      "cell_type": "code",
      "execution_count": null,
      "metadata": {
        "colab": {
          "background_save": true,
          "base_uri": "https://localhost:8080/"
        },
        "id": "yN6kxjENIujY",
        "outputId": "fd0d98ab-184d-4b57-d742-656a3b156d45"
      },
      "outputs": [
        {
          "data": {
            "text/plain": [
              "<bound method NDFrame.tail of       Unnamed: 0                                             review  polarity  \\\n",
              "0           3870                            able play youtube alexa    0.5000   \n",
              "1             62  able recognize indian accent really well drop ...    0.2794   \n",
              "2            487  absolute smart device amazon connect external ...    0.1827   \n",
              "3           3204  absolutely amaze new member family control hom...    0.3682   \n",
              "4           1265  absolutely amaze previously sceptical invest m...    0.2333   \n",
              "...          ...                                                ...       ...   \n",
              "4079         852  yo yo yo love go if want one smart speaker val...    0.4571   \n",
              "4080        2163                                      youtube music    0.0000   \n",
              "4081        2488  youtube support nahi kartasong recognise achha...    0.0000   \n",
              "4082         651  yup proscontrols wipro light amazinglysony bra...    0.0000   \n",
              "4083         868  zero integration capabilities fire tv devices ...   -0.3125   \n",
              "\n",
              "      division  \n",
              "0     positive  \n",
              "1     positive  \n",
              "2     positive  \n",
              "3     positive  \n",
              "4     positive  \n",
              "...        ...  \n",
              "4079  positive  \n",
              "4080   neutral  \n",
              "4081   neutral  \n",
              "4082   neutral  \n",
              "4083  negative  \n",
              "\n",
              "[4084 rows x 4 columns]>"
            ]
          },
          "execution_count": 34,
          "metadata": {},
          "output_type": "execute_result"
        }
      ],
      "source": [
        "df.tail"
      ]
    },
    {
      "cell_type": "code",
      "execution_count": null,
      "metadata": {
        "colab": {
          "background_save": true
        },
        "id": "oLn5efoGJWiQ"
      },
      "outputs": [],
      "source": [
        "X = list(df.review)\n",
        "Y = df.division"
      ]
    },
    {
      "cell_type": "code",
      "execution_count": null,
      "metadata": {
        "colab": {
          "background_save": true,
          "base_uri": "https://localhost:8080/"
        },
        "id": "5ZaNm-cpSuH9",
        "outputId": "50657305-567e-493c-9590-a5aacc880cbb"
      },
      "outputs": [
        {
          "data": {
            "text/plain": [
              "Unnamed: 0    0\n",
              "review        0\n",
              "polarity      0\n",
              "division      0\n",
              "dtype: int64"
            ]
          },
          "execution_count": 36,
          "metadata": {},
          "output_type": "execute_result"
        }
      ],
      "source": [
        "df.isnull().sum()"
      ]
    },
    {
      "cell_type": "code",
      "execution_count": null,
      "metadata": {
        "colab": {
          "background_save": true
        },
        "id": "Zdn3eub0KIWV"
      },
      "outputs": [],
      "source": [
        "import tensorflow as tf\n",
        "from tensorflow.keras import layers"
      ]
    },
    {
      "cell_type": "code",
      "execution_count": null,
      "metadata": {
        "colab": {
          "background_save": true,
          "base_uri": "https://localhost:8080/"
        },
        "id": "Vq5xAO0SYfH_",
        "outputId": "a3aed2f2-4a93-4b83-bab4-fd428514f240"
      },
      "outputs": [
        {
          "name": "stderr",
          "output_type": "stream",
          "text": [
            "[nltk_data] Downloading package punkt to /root/nltk_data...\n",
            "[nltk_data]   Package punkt is already up-to-date!\n"
          ]
        },
        {
          "data": {
            "text/plain": [
              "True"
            ]
          },
          "execution_count": 38,
          "metadata": {},
          "output_type": "execute_result"
        }
      ],
      "source": [
        "from nltk.tokenize import sent_tokenize, word_tokenize\n",
        "import nltk\n",
        "nltk.download('punkt')"
      ]
    },
    {
      "cell_type": "code",
      "execution_count": null,
      "metadata": {
        "colab": {
          "background_save": true
        },
        "id": "cFFBYytYyByQ"
      },
      "outputs": [],
      "source": [
        "from nltk.corpus import stopwords"
      ]
    },
    {
      "cell_type": "code",
      "execution_count": null,
      "metadata": {
        "colab": {
          "background_save": true
        },
        "id": "dqG-1YzES-Aq"
      },
      "outputs": [],
      "source": [
        "#Cleaning the data. It includes removing the special characters, \n",
        "# unnecessary symbols, and stop words. "
      ]
    },
    {
      "cell_type": "code",
      "execution_count": null,
      "metadata": {
        "colab": {
          "background_save": true
        },
        "id": "xBL4y1ynS_JJ"
      },
      "outputs": [],
      "source": [
        "def cleaning(df, stop_words):\n",
        "  df['review'] = df['review'].apply(lambda x:' '.join(x.lower() for x in x.split()))"
      ]
    },
    {
      "cell_type": "code",
      "execution_count": null,
      "metadata": {
        "colab": {
          "background_save": true,
          "base_uri": "https://localhost:8080/"
        },
        "id": "IwjU5HZpToH2",
        "outputId": "a63f7d45-9be8-48b6-c96a-e37eed82c5c6"
      },
      "outputs": [
        {
          "name": "stderr",
          "output_type": "stream",
          "text": [
            "/usr/local/lib/python3.7/dist-packages/ipykernel_launcher.py:2: FutureWarning: The default value of regex will change from True to False in a future version.\n",
            "  \n"
          ]
        }
      ],
      "source": [
        "# Replacing the special characters\n",
        "df['review'] = df['review'].str.replace('[^ws]', '')"
      ]
    },
    {
      "cell_type": "code",
      "execution_count": null,
      "metadata": {
        "colab": {
          "background_save": true
        },
        "id": "bGngAEqLTzM3"
      },
      "outputs": [],
      "source": [
        "# Replacing the digits/numbers\n",
        "df['review'] = df['review'].str.replace('d', '')"
      ]
    },
    {
      "cell_type": "code",
      "execution_count": null,
      "metadata": {
        "colab": {
          "background_save": true,
          "base_uri": "https://localhost:8080/"
        },
        "id": "lQESYFgSUEuL",
        "outputId": "9abdeecd-502a-4130-89fa-0e012f8ebf74"
      },
      "outputs": [
        {
          "name": "stderr",
          "output_type": "stream",
          "text": [
            "[nltk_data] Downloading package stopwords to /root/nltk_data...\n",
            "[nltk_data]   Package stopwords is already up-to-date!\n"
          ]
        }
      ],
      "source": [
        "# Removing stop words\n",
        "nltk.download(\"stopwords\")\n",
        "stopwords = nltk.corpus.stopwords.words('english')\n",
        "df['review'] = df['review'].apply(lambda x:' '.join(x for x in x.split() if x not in stopwords))"
      ]
    },
    {
      "cell_type": "code",
      "execution_count": null,
      "metadata": {
        "colab": {
          "background_save": true
        },
        "id": "_B36wvLN7Euj"
      },
      "outputs": [],
      "source": [
        "import re"
      ]
    },
    {
      "cell_type": "code",
      "execution_count": null,
      "metadata": {
        "colab": {
          "background_save": true,
          "base_uri": "https://localhost:8080/"
        },
        "id": "URmGvHC87Fmg",
        "outputId": "a644d89e-5733-4a86-b0b8-cbbcbb3125b7"
      },
      "outputs": [
        {
          "name": "stdout",
          "output_type": "stream",
          "text": [
            " \n",
            "\n"
          ]
        }
      ],
      "source": [
        "# removal of urls\n",
        "my_string = \"\"\" /content/EcoPreprocessed.csv\n",
        "\"\"\"\n",
        "result = re.sub(r'/content/EcoPreprocessed.csv', '', my_string)\n",
        "print(result)"
      ]
    },
    {
      "cell_type": "code",
      "execution_count": null,
      "metadata": {
        "colab": {
          "background_save": true,
          "base_uri": "https://localhost:8080/"
        },
        "id": "3CUI55Fv7Ur1",
        "outputId": "3f8ab576-3db4-4a3f-fca6-b7cd8a73d3ec"
      },
      "outputs": [
        {
          "name": "stdout",
          "output_type": "stream",
          "text": [
            "[]\n"
          ]
        }
      ],
      "source": [
        "# removal of email ids\n",
        "text = '/content/EcoPreprocessed.csv'\n",
        "emails = re.findall(r\"[a-z0-9\\.\\-+_]+@[a-z0-9\\.\\-+_]+\\.[a-z]+\", text)\n",
        "print (emails)"
      ]
    },
    {
      "cell_type": "code",
      "execution_count": null,
      "metadata": {
        "colab": {
          "background_save": true
        },
        "id": "YNxPKHO7Xll0"
      },
      "outputs": [],
      "source": [
        "import wordcloud\n",
        "from sklearn.metrics import classification_report,confusion_matrix,accuracy_score"
      ]
    },
    {
      "cell_type": "code",
      "execution_count": null,
      "metadata": {
        "colab": {
          "background_save": true,
          "base_uri": "https://localhost:8080/",
          "height": 198
        },
        "id": "MBSjXWw5XUeD",
        "outputId": "b6f37904-b16a-4d3f-f328-d94b73beefe1"
      },
      "outputs": [
        {
          "data": {
            "image/png": "[encoded data removed]",
            "text/plain": [
              "<Figure size 432x288 with 1 Axes>"
            ]
          },
          "metadata": {},
          "output_type": "display_data"
        }
      ],
      "source": [
        "common_words=''\n",
        "for i in df.review:\n",
        "  i = str(i)\n",
        "  tokens = i.split()\n",
        "  common_words += \" \".join(tokens)+\" \"\n",
        "wordcloud = wordcloud.WordCloud().generate(common_words)\n",
        "plt.imshow(wordcloud, interpolation='bilinear')\n",
        "plt.axis(\"off\")\n",
        "plt.show()"
      ]
    },
    {
      "cell_type": "code",
      "execution_count": null,
      "metadata": {
        "colab": {
          "background_save": true
        },
        "id": "Uz_O9WL-YiCG"
      },
      "outputs": [],
      "source": [
        "from sklearn.preprocessing import LabelEncoder\n",
        "from keras_preprocessing.sequence import pad_sequences\n",
        "from keras.preprocessing.text import Tokenizer\n",
        "# pad seq function is used to convert a list of sequences into a 2D NumPy array."
      ]
    },
    {
      "cell_type": "code",
      "execution_count": null,
      "metadata": {
        "colab": {
          "background_save": true
        },
        "id": "tE0dSOSFYLCb"
      },
      "outputs": [],
      "source": [
        "# Encoded the target column\n",
        "lb=LabelEncoder()\n",
        "df['division'] = lb.fit_transform(df['division'])"
      ]
    },
    {
      "cell_type": "code",
      "execution_count": null,
      "metadata": {
        "colab": {
          "background_save": true
        },
        "id": "IH7IJ8hpYnLd"
      },
      "outputs": [],
      "source": [
        "tokenizer = Tokenizer(num_words=500, split=' ') \n",
        "tokenizer.fit_on_texts(df['review'].values)\n",
        "X = tokenizer.texts_to_sequences(df['review'].values)\n",
        "X = pad_sequences(X)"
      ]
    },
    {
      "cell_type": "code",
      "execution_count": null,
      "metadata": {
        "colab": {
          "background_save": true,
          "base_uri": "https://localhost:8080/"
        },
        "id": "l_HFqfZphGel",
        "outputId": "60edc26c-dd83-4717-906f-e04bcd1c1fe3"
      },
      "outputs": [
        {
          "name": "stdout",
          "output_type": "stream",
          "text": [
            "[[  0]\n",
            " [161]\n",
            " [162]\n",
            " ...\n",
            " [  2]\n",
            " [148]\n",
            " [ 10]]\n"
          ]
        }
      ],
      "source": [
        "print(X)"
      ]
    },
    {
      "cell_type": "code",
      "execution_count": null,
      "metadata": {
        "colab": {
          "background_save": true
        },
        "id": "to0roCa1Z23E"
      },
      "outputs": [],
      "source": [
        "from keras.models import Sequential\n",
        "from keras.layers import Dense, Embedding, LSTM, SpatialDropout1D"
      ]
    },
    {
      "cell_type": "code",
      "execution_count": null,
      "metadata": {
        "colab": {
          "background_save": true,
          "base_uri": "https://localhost:8080/"
        },
        "id": "ZpRjPQjzZaei",
        "outputId": "d34e183a-66ab-4879-f796-0950e25f9165"
      },
      "outputs": [
        {
          "name": "stdout",
          "output_type": "stream",
          "text": [
            "Model: \"sequential\"\n",
            "_________________________________________________________________\n",
            " Layer (type)                Output Shape              Param #   \n",
            "=================================================================\n",
            " embedding (Embedding)       (None, 1, 120)            60000     \n",
            "                                                                 \n",
            " spatial_dropout1d (SpatialD  (None, 1, 120)           0         \n",
            " ropout1D)                                                       \n",
            "                                                                 \n",
            " lstm (LSTM)                 (None, 176)               209088    \n",
            "                                                                 \n",
            " dense (Dense)               (None, 2)                 354       \n",
            "                                                                 \n",
            "=================================================================\n",
            "Total params: 269,442\n",
            "Trainable params: 269,442\n",
            "Non-trainable params: 0\n",
            "_________________________________________________________________\n",
            "None\n"
          ]
        }
      ],
      "source": [
        "#Building the LSTM model using the ‘Keras’ library\n",
        "model = Sequential()\n",
        "model.add(Embedding(500, 120, input_length = X.shape[1]))\n",
        "model.add(SpatialDropout1D(0.4))\n",
        "model.add(LSTM(176, dropout=0.2, recurrent_dropout=0.2))\n",
        "model.add(Dense(2,activation='softmax'))\n",
        "model.compile(loss = 'categorical_crossentropy', optimizer='adam', metrics = ['accuracy'])\n",
        "model.save('lstm_riya_model.h5')\n",
        "print(model.summary())"
      ]
    },
    {
      "cell_type": "code",
      "execution_count": null,
      "metadata": {
        "colab": {
          "background_save": true
        },
        "id": "q7K4uP82jowS"
      },
      "outputs": [],
      "source": [
        "from keras.models import load_model"
      ]
    },
    {
      "cell_type": "code",
      "execution_count": null,
      "metadata": {
        "colab": {
          "background_save": true,
          "base_uri": "https://localhost:8080/"
        },
        "id": "wfdwuWxaguH5",
        "outputId": "0fe4d3bc-b5a4-41e3-bb1d-0193c4755e7b"
      },
      "outputs": [
        {
          "name": "stdout",
          "output_type": "stream",
          "text": [
            "[[0.49836412 0.5016358 ]\n",
            " [0.50228375 0.49771625]\n",
            " [0.5000461  0.49995393]\n",
            " ...\n",
            " [0.49853128 0.50146866]\n",
            " [0.5036692  0.49633077]\n",
            " [0.5000762  0.49992386]]\n"
          ]
        }
      ],
      "source": [
        "m = load_model('./lstm_riya_model.h5')\n",
        "yhat = m.predict(X, verbose=0)\n",
        "print(yhat)"
      ]
    },
    {
      "cell_type": "code",
      "execution_count": null,
      "metadata": {
        "colab": {
          "background_save": true
        },
        "id": "wRNXuxYIaAFf"
      },
      "outputs": [],
      "source": [
        "#Splitting the data into training and testing\n",
        "y=pd.get_dummies(df['division'])\n",
        "X_train, X_test, y_train, y_test = train_test_split(X,y, test_size = 0.3, random_state = 42)"
      ]
    },
    {
      "cell_type": "code",
      "execution_count": null,
      "metadata": {
        "colab": {
          "background_save": true,
          "base_uri": "https://localhost:8080/"
        },
        "id": "Hw4yNFC5aKCj",
        "outputId": "088b79a7-28a0-4b8e-8a94-f156747e28d8"
      },
      "outputs": [
        {
          "name": "stdout",
          "output_type": "stream",
          "text": [
            "      0  1  2\n",
            "0     0  0  1\n",
            "1     0  0  1\n",
            "2     0  0  1\n",
            "3     0  0  1\n",
            "4     0  0  1\n",
            "...  .. .. ..\n",
            "4079  0  0  1\n",
            "4080  0  1  0\n",
            "4081  0  1  0\n",
            "4082  0  1  0\n",
            "4083  1  0  0\n",
            "\n",
            "[4084 rows x 3 columns]\n"
          ]
        }
      ],
      "source": [
        "print(y)"
      ]
    }
  ],
  "metadata": {
    "colab": {
      "provenance": []
    },
    "kernelspec": {
      "display_name": "Python 3",
      "name": "python3"
    },
    "language_info": {
      "name": "python"
    }
  },
  "nbformat": 4,
  "nbformat_minor": 0
}